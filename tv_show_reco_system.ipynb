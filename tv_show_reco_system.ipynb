{
 "cells": [
  {
   "cell_type": "code",
   "execution_count": 2,
   "id": "55094179-f3b8-4962-9bff-98cb5c148568",
   "metadata": {},
   "outputs": [],
   "source": [
    "#!pip install missingno"
   ]
  },
  {
   "cell_type": "code",
   "execution_count": 3,
   "id": "60944795-c78c-4db7-9416-bc5386ac6e0f",
   "metadata": {},
   "outputs": [],
   "source": [
    "import pandas as pd\n",
    "import numpy as np\n",
    "\n",
    "import matplotlib.pyplot as plt\n",
    "import missingno as msno\n",
    "%matplotlib inline\n",
    "\n",
    "from sklearn.feature_extraction.text import TfidfVectorizer\n",
    "from sklearn.metrics.pairwise import linear_kernel\n"
   ]
  },
  {
   "cell_type": "code",
   "execution_count": 4,
   "id": "74f9b905-dc52-44a9-a005-5af40df831da",
   "metadata": {},
   "outputs": [],
   "source": [
    "amazon_titles = pd.read_csv(\"data_1/titles.csv\")\n",
    "appletv_titles = pd.read_csv(\"data_2/titles.csv\")\n",
    "disney_titles = pd.read_csv(\"data_3/titles.csv\")\n",
    "hbo_titles = pd.read_csv(\"data_4/titles.csv\")\n",
    "netflix_titles = pd.read_csv(\"data_5/titles.csv\")\n",
    "paramount_titles = pd.read_csv(\"data_6/titles.csv\")"
   ]
  },
  {
   "cell_type": "code",
   "execution_count": 5,
   "id": "0ce2c2af-ea09-4160-bd2f-d5884a048fc8",
   "metadata": {},
   "outputs": [],
   "source": [
    "titles = pd.concat([amazon_titles, appletv_titles, disney_titles, hbo_titles, netflix_titles, paramount_titles], axis=0).reset_index()\n",
    "titles.drop(['index'], axis=1, inplace=True)"
   ]
  },
  {
   "cell_type": "code",
   "execution_count": 6,
   "id": "9a9ae3af-570a-4fc4-aa47-b8799a50353e",
   "metadata": {},
   "outputs": [
    {
     "data": {
      "text/html": [
       "<div>\n",
       "<style scoped>\n",
       "    .dataframe tbody tr th:only-of-type {\n",
       "        vertical-align: middle;\n",
       "    }\n",
       "\n",
       "    .dataframe tbody tr th {\n",
       "        vertical-align: top;\n",
       "    }\n",
       "\n",
       "    .dataframe thead th {\n",
       "        text-align: right;\n",
       "    }\n",
       "</style>\n",
       "<table border=\"1\" class=\"dataframe\">\n",
       "  <thead>\n",
       "    <tr style=\"text-align: right;\">\n",
       "      <th></th>\n",
       "      <th>id</th>\n",
       "      <th>title</th>\n",
       "      <th>type</th>\n",
       "      <th>description</th>\n",
       "      <th>release_year</th>\n",
       "      <th>age_certification</th>\n",
       "      <th>runtime</th>\n",
       "      <th>genres</th>\n",
       "      <th>production_countries</th>\n",
       "      <th>seasons</th>\n",
       "      <th>imdb_id</th>\n",
       "      <th>imdb_score</th>\n",
       "      <th>imdb_votes</th>\n",
       "      <th>tmdb_popularity</th>\n",
       "      <th>tmdb_score</th>\n",
       "    </tr>\n",
       "  </thead>\n",
       "  <tbody>\n",
       "    <tr>\n",
       "      <th>7151</th>\n",
       "      <td>ts20371</td>\n",
       "      <td>Top Gear</td>\n",
       "      <td>SHOW</td>\n",
       "      <td>This fast-paced and stunt-filled motor show te...</td>\n",
       "      <td>2002</td>\n",
       "      <td>TV-PG</td>\n",
       "      <td>58</td>\n",
       "      <td>['comedy', 'reality', 'european', 'music']</td>\n",
       "      <td>['GB']</td>\n",
       "      <td>33.0</td>\n",
       "      <td>tt1628033</td>\n",
       "      <td>8.7</td>\n",
       "      <td>120892.0</td>\n",
       "      <td>65.944</td>\n",
       "      <td>7.380</td>\n",
       "    </tr>\n",
       "    <tr>\n",
       "      <th>7153</th>\n",
       "      <td>tm44313</td>\n",
       "      <td>The Lord of the Rings: The Fellowship of the Ring</td>\n",
       "      <td>MOVIE</td>\n",
       "      <td>Young hobbit Frodo Baggins, after inheriting a...</td>\n",
       "      <td>2001</td>\n",
       "      <td>PG-13</td>\n",
       "      <td>178</td>\n",
       "      <td>['fantasy', 'action', 'drama']</td>\n",
       "      <td>['NZ', 'US']</td>\n",
       "      <td>NaN</td>\n",
       "      <td>tt0120737</td>\n",
       "      <td>8.8</td>\n",
       "      <td>1895545.0</td>\n",
       "      <td>110.122</td>\n",
       "      <td>8.394</td>\n",
       "    </tr>\n",
       "    <tr>\n",
       "      <th>7162</th>\n",
       "      <td>tm56184</td>\n",
       "      <td>The Dark Knight</td>\n",
       "      <td>MOVIE</td>\n",
       "      <td>Batman raises the stakes in his war on crime. ...</td>\n",
       "      <td>2008</td>\n",
       "      <td>PG-13</td>\n",
       "      <td>152</td>\n",
       "      <td>['drama', 'thriller', 'action', 'crime']</td>\n",
       "      <td>['GB', 'US']</td>\n",
       "      <td>NaN</td>\n",
       "      <td>tt0468569</td>\n",
       "      <td>9.0</td>\n",
       "      <td>2684317.0</td>\n",
       "      <td>81.703</td>\n",
       "      <td>8.508</td>\n",
       "    </tr>\n",
       "    <tr>\n",
       "      <th>7180</th>\n",
       "      <td>tm115982</td>\n",
       "      <td>The Lord of the Rings: The Two Towers</td>\n",
       "      <td>MOVIE</td>\n",
       "      <td>Frodo and Sam are trekking to Mordor to destro...</td>\n",
       "      <td>2002</td>\n",
       "      <td>PG-13</td>\n",
       "      <td>179</td>\n",
       "      <td>['action', 'fantasy', 'drama']</td>\n",
       "      <td>['NZ', 'US']</td>\n",
       "      <td>NaN</td>\n",
       "      <td>tt0167261</td>\n",
       "      <td>8.8</td>\n",
       "      <td>1684864.0</td>\n",
       "      <td>87.778</td>\n",
       "      <td>8.375</td>\n",
       "    </tr>\n",
       "    <tr>\n",
       "      <th>7182</th>\n",
       "      <td>tm142381</td>\n",
       "      <td>The Lord of the Rings: The Return of the King</td>\n",
       "      <td>MOVIE</td>\n",
       "      <td>Aragorn is revealed as the heir to the ancient...</td>\n",
       "      <td>2003</td>\n",
       "      <td>PG-13</td>\n",
       "      <td>201</td>\n",
       "      <td>['fantasy', 'action', 'drama']</td>\n",
       "      <td>['NZ', 'US']</td>\n",
       "      <td>NaN</td>\n",
       "      <td>tt0167260</td>\n",
       "      <td>9.0</td>\n",
       "      <td>1865989.0</td>\n",
       "      <td>83.617</td>\n",
       "      <td>8.474</td>\n",
       "    </tr>\n",
       "  </tbody>\n",
       "</table>\n",
       "</div>"
      ],
      "text/plain": [
       "            id                                              title   type  \\\n",
       "7151   ts20371                                           Top Gear   SHOW   \n",
       "7153   tm44313  The Lord of the Rings: The Fellowship of the Ring  MOVIE   \n",
       "7162   tm56184                                    The Dark Knight  MOVIE   \n",
       "7180  tm115982              The Lord of the Rings: The Two Towers  MOVIE   \n",
       "7182  tm142381      The Lord of the Rings: The Return of the King  MOVIE   \n",
       "\n",
       "                                            description  release_year  \\\n",
       "7151  This fast-paced and stunt-filled motor show te...          2002   \n",
       "7153  Young hobbit Frodo Baggins, after inheriting a...          2001   \n",
       "7162  Batman raises the stakes in his war on crime. ...          2008   \n",
       "7180  Frodo and Sam are trekking to Mordor to destro...          2002   \n",
       "7182  Aragorn is revealed as the heir to the ancient...          2003   \n",
       "\n",
       "     age_certification  runtime                                      genres  \\\n",
       "7151             TV-PG       58  ['comedy', 'reality', 'european', 'music']   \n",
       "7153             PG-13      178              ['fantasy', 'action', 'drama']   \n",
       "7162             PG-13      152    ['drama', 'thriller', 'action', 'crime']   \n",
       "7180             PG-13      179              ['action', 'fantasy', 'drama']   \n",
       "7182             PG-13      201              ['fantasy', 'action', 'drama']   \n",
       "\n",
       "     production_countries  seasons    imdb_id  imdb_score  imdb_votes  \\\n",
       "7151               ['GB']     33.0  tt1628033         8.7    120892.0   \n",
       "7153         ['NZ', 'US']      NaN  tt0120737         8.8   1895545.0   \n",
       "7162         ['GB', 'US']      NaN  tt0468569         9.0   2684317.0   \n",
       "7180         ['NZ', 'US']      NaN  tt0167261         8.8   1684864.0   \n",
       "7182         ['NZ', 'US']      NaN  tt0167260         9.0   1865989.0   \n",
       "\n",
       "      tmdb_popularity  tmdb_score  \n",
       "7151           65.944       7.380  \n",
       "7153          110.122       8.394  \n",
       "7162           81.703       8.508  \n",
       "7180           87.778       8.375  \n",
       "7182           83.617       8.474  "
      ]
     },
     "execution_count": 6,
     "metadata": {},
     "output_type": "execute_result"
    }
   ],
   "source": [
    "titles[titles.duplicated() == True].head(5)"
   ]
  },
  {
   "cell_type": "code",
   "execution_count": 7,
   "id": "f4225bf2-2418-4c26-9bd3-27ebae8a14c7",
   "metadata": {},
   "outputs": [
    {
     "data": {
      "text/plain": [
       "(25246, 15)"
      ]
     },
     "execution_count": 7,
     "metadata": {},
     "output_type": "execute_result"
    }
   ],
   "source": [
    "titles.shape"
   ]
  },
  {
   "cell_type": "code",
   "execution_count": 8,
   "id": "b465cf0b-1865-4f09-b193-ea6a77ba738b",
   "metadata": {},
   "outputs": [
    {
     "name": "stdout",
     "output_type": "stream",
     "text": [
      "<class 'pandas.core.frame.DataFrame'>\n",
      "RangeIndex: 25246 entries, 0 to 25245\n",
      "Data columns (total 15 columns):\n",
      " #   Column                Non-Null Count  Dtype  \n",
      "---  ------                --------------  -----  \n",
      " 0   id                    25246 non-null  object \n",
      " 1   title                 25246 non-null  object \n",
      " 2   type                  25246 non-null  object \n",
      " 3   description           25050 non-null  object \n",
      " 4   release_year          25246 non-null  int64  \n",
      " 5   age_certification     12097 non-null  object \n",
      " 6   runtime               25246 non-null  int64  \n",
      " 7   genres                25246 non-null  object \n",
      " 8   production_countries  25246 non-null  object \n",
      " 9   seasons               5791 non-null   float64\n",
      " 10  imdb_id               23260 non-null  object \n",
      " 11  imdb_score            22646 non-null  float64\n",
      " 12  imdb_votes            22586 non-null  float64\n",
      " 13  tmdb_popularity       24519 non-null  float64\n",
      " 14  tmdb_score            22109 non-null  float64\n",
      "dtypes: float64(5), int64(2), object(8)\n",
      "memory usage: 2.9+ MB\n"
     ]
    }
   ],
   "source": [
    "titles.info()"
   ]
  },
  {
   "cell_type": "code",
   "execution_count": 9,
   "id": "fde3db0f-a894-411c-bc5a-36e872d832b2",
   "metadata": {},
   "outputs": [],
   "source": [
    "# drop duplicates \n",
    "titles.drop_duplicates(inplace=True)"
   ]
  },
  {
   "cell_type": "code",
   "execution_count": 10,
   "id": "6fdc41a2-0cdc-4b2f-90a9-a9a297304bb4",
   "metadata": {},
   "outputs": [
    {
     "data": {
      "text/plain": [
       "(23362, 15)"
      ]
     },
     "execution_count": 10,
     "metadata": {},
     "output_type": "execute_result"
    }
   ],
   "source": [
    "titles.shape"
   ]
  },
  {
   "cell_type": "code",
   "execution_count": 11,
   "id": "998e7cd9-1347-46d4-9562-ff3434455937",
   "metadata": {},
   "outputs": [
    {
     "data": {
      "text/plain": [
       "id                          0\n",
       "title                       0\n",
       "type                        0\n",
       "description               195\n",
       "release_year                0\n",
       "age_certification       11981\n",
       "runtime                     0\n",
       "genres                      0\n",
       "production_countries        0\n",
       "seasons                 17739\n",
       "imdb_id                  1950\n",
       "imdb_score               2558\n",
       "imdb_votes               2618\n",
       "tmdb_popularity           720\n",
       "tmdb_score               3000\n",
       "dtype: int64"
      ]
     },
     "execution_count": 11,
     "metadata": {},
     "output_type": "execute_result"
    }
   ],
   "source": [
    "# Null values\n",
    "titles.isna().sum()"
   ]
  },
  {
   "cell_type": "markdown",
   "id": "73a8d868-1c75-47a6-8ea0-b302c7338e6f",
   "metadata": {},
   "source": [
    "### Show missing data using missingno library "
   ]
  },
  {
   "cell_type": "code",
   "execution_count": 12,
   "id": "50590f54-aa23-4805-9cba-59a19b819654",
   "metadata": {},
   "outputs": [
    {
     "data": {
      "text/plain": [
       "Text(0.5, 1.0, 'Distribution of Missing Values')"
      ]
     },
     "execution_count": 12,
     "metadata": {},
     "output_type": "execute_result"
    },
    {
     "data": {
      "image/png": "[encoded data removed]",
      "text/plain": [
       "<Figure size 3000x1000 with 1 Axes>"
      ]
     },
     "metadata": {},
     "output_type": "display_data"
    }
   ],
   "source": [
    "msno.matrix(titles, sparkline=False, figsize=(30,10), color=(0.69,0.23,0.42))\n",
    "plt.title('Distribution of Missing Values', fontsize=40)"
   ]
  },
  {
   "cell_type": "markdown",
   "id": "543e2166-c7f9-4c8c-a60f-b84f93cdeb7e",
   "metadata": {},
   "source": [
    "## Handling the 'genres' and 'production_countries' columns"
   ]
  },
  {
   "cell_type": "markdown",
   "id": "6ac8a51d-f54c-460b-99db-4368fa30f00b",
   "metadata": {},
   "source": [
    "#### These two columns are formed by list values, so we need to handle these values to work with a single value."
   ]
  },
  {
   "cell_type": "code",
   "execution_count": 13,
   "id": "c3aa939c-3284-4532-b283-b6856b895882",
   "metadata": {},
   "outputs": [],
   "source": [
    "# genres\n",
    "titles['genres'] = titles['genres'].str.replace(r'[','').str.replace(\"'\",'').str.replace(r']','')\n",
    "titles['genre'] = titles['genres'].str.split(',').str[0]"
   ]
  },
  {
   "cell_type": "code",
   "execution_count": 14,
   "id": "a9bb0073-eaab-4823-82c2-1b17f3e08296",
   "metadata": {},
   "outputs": [],
   "source": [
    "# For countries\n",
    "titles['production_countries'] = titles['production_countries'].str.replace(r\"[\", '').str.replace(r\"'\", '').str.replace(r\"]\", '')\n",
    "titles['production_country'] = titles['production_countries'].str.split(',').str[0]"
   ]
  },
  {
   "cell_type": "code",
   "execution_count": 15,
   "id": "b8786ac8-6718-4328-88c2-941b83d204a5",
   "metadata": {},
   "outputs": [
    {
     "data": {
      "text/plain": [
       "Text(0.5, 1.0, 'Distribution of Missing Values')"
      ]
     },
     "execution_count": 15,
     "metadata": {},
     "output_type": "execute_result"
    },
    {
     "data": {
      "image/png": "[encoded data removed]",
      "text/plain": [
       "<Figure size 3000x1000 with 1 Axes>"
      ]
     },
     "metadata": {},
     "output_type": "display_data"
    }
   ],
   "source": [
    "msno.matrix(titles, sparkline=False, figsize=(30,10), color=(0.69,0.23,0.42))\n",
    "plt.title('Distribution of Missing Values', fontsize=40)"
   ]
  },
  {
   "cell_type": "code",
   "execution_count": 16,
   "id": "29cfd720-3b6c-4f67-8e99-7331786b7f4c",
   "metadata": {},
   "outputs": [],
   "source": [
    "\n",
    "titles.drop(['genres', 'production_countries'], axis=1, inplace=True)\n"
   ]
  },
  {
   "cell_type": "code",
   "execution_count": 17,
   "id": "95abc0ec-70ad-4bb5-9740-ba1778785088",
   "metadata": {},
   "outputs": [
    {
     "data": {
      "text/plain": [
       "Text(0.5, 1.0, 'Distribution of Missing Values')"
      ]
     },
     "execution_count": 17,
     "metadata": {},
     "output_type": "execute_result"
    },
    {
     "data": {
      "image/png": "[encoded data removed]",
      "text/plain": [
       "<Figure size 3000x1000 with 1 Axes>"
      ]
     },
     "metadata": {},
     "output_type": "display_data"
    }
   ],
   "source": [
    "msno.matrix(titles, sparkline=False, figsize=(30,10), color=(0.69,0.23,0.42))\n",
    "plt.title('Distribution of Missing Values', fontsize=40)"
   ]
  },
  {
   "cell_type": "code",
   "execution_count": 18,
   "id": "2a5baf02-f846-45e2-9cf2-9640d406cedd",
   "metadata": {},
   "outputs": [
    {
     "data": {
      "text/html": [
       "<div>\n",
       "<style scoped>\n",
       "    .dataframe tbody tr th:only-of-type {\n",
       "        vertical-align: middle;\n",
       "    }\n",
       "\n",
       "    .dataframe tbody tr th {\n",
       "        vertical-align: top;\n",
       "    }\n",
       "\n",
       "    .dataframe thead th {\n",
       "        text-align: right;\n",
       "    }\n",
       "</style>\n",
       "<table border=\"1\" class=\"dataframe\">\n",
       "  <thead>\n",
       "    <tr style=\"text-align: right;\">\n",
       "      <th></th>\n",
       "      <th>id</th>\n",
       "      <th>title</th>\n",
       "      <th>type</th>\n",
       "      <th>description</th>\n",
       "      <th>release_year</th>\n",
       "      <th>age_certification</th>\n",
       "      <th>runtime</th>\n",
       "      <th>seasons</th>\n",
       "      <th>imdb_id</th>\n",
       "      <th>imdb_score</th>\n",
       "      <th>imdb_votes</th>\n",
       "      <th>tmdb_popularity</th>\n",
       "      <th>tmdb_score</th>\n",
       "      <th>genre</th>\n",
       "      <th>production_country</th>\n",
       "    </tr>\n",
       "  </thead>\n",
       "  <tbody>\n",
       "    <tr>\n",
       "      <th>0</th>\n",
       "      <td>ts300399</td>\n",
       "      <td>Five Came Back: The Reference Films</td>\n",
       "      <td>SHOW</td>\n",
       "      <td>This collection includes 12 World War II-era p...</td>\n",
       "      <td>1945</td>\n",
       "      <td>TV-MA</td>\n",
       "      <td>51</td>\n",
       "      <td>1.0</td>\n",
       "      <td>NaN</td>\n",
       "      <td>NaN</td>\n",
       "      <td>NaN</td>\n",
       "      <td>0.601</td>\n",
       "      <td>NaN</td>\n",
       "      <td>documentation</td>\n",
       "      <td>US</td>\n",
       "    </tr>\n",
       "    <tr>\n",
       "      <th>1</th>\n",
       "      <td>tm82169</td>\n",
       "      <td>Rocky</td>\n",
       "      <td>MOVIE</td>\n",
       "      <td>When world heavyweight boxing champion, Apollo...</td>\n",
       "      <td>1976</td>\n",
       "      <td>PG</td>\n",
       "      <td>119</td>\n",
       "      <td>NaN</td>\n",
       "      <td>tt0075148</td>\n",
       "      <td>8.1</td>\n",
       "      <td>588100.0</td>\n",
       "      <td>106.361</td>\n",
       "      <td>7.782</td>\n",
       "      <td>drama</td>\n",
       "      <td>US</td>\n",
       "    </tr>\n",
       "    <tr>\n",
       "      <th>2</th>\n",
       "      <td>tm17823</td>\n",
       "      <td>Grease</td>\n",
       "      <td>MOVIE</td>\n",
       "      <td>Australian good girl Sandy and greaser Danny f...</td>\n",
       "      <td>1978</td>\n",
       "      <td>PG</td>\n",
       "      <td>110</td>\n",
       "      <td>NaN</td>\n",
       "      <td>tt0077631</td>\n",
       "      <td>7.2</td>\n",
       "      <td>283316.0</td>\n",
       "      <td>33.160</td>\n",
       "      <td>7.406</td>\n",
       "      <td>romance</td>\n",
       "      <td>US</td>\n",
       "    </tr>\n",
       "    <tr>\n",
       "      <th>3</th>\n",
       "      <td>tm191099</td>\n",
       "      <td>The Sting</td>\n",
       "      <td>MOVIE</td>\n",
       "      <td>A novice con man teams up with an acknowledged...</td>\n",
       "      <td>1973</td>\n",
       "      <td>PG</td>\n",
       "      <td>129</td>\n",
       "      <td>NaN</td>\n",
       "      <td>tt0070735</td>\n",
       "      <td>8.3</td>\n",
       "      <td>266738.0</td>\n",
       "      <td>24.616</td>\n",
       "      <td>8.020</td>\n",
       "      <td>crime</td>\n",
       "      <td>US</td>\n",
       "    </tr>\n",
       "    <tr>\n",
       "      <th>4</th>\n",
       "      <td>tm69975</td>\n",
       "      <td>Rocky II</td>\n",
       "      <td>MOVIE</td>\n",
       "      <td>After Rocky goes the distance with champ Apoll...</td>\n",
       "      <td>1979</td>\n",
       "      <td>PG</td>\n",
       "      <td>119</td>\n",
       "      <td>NaN</td>\n",
       "      <td>tt0079817</td>\n",
       "      <td>7.3</td>\n",
       "      <td>216307.0</td>\n",
       "      <td>75.699</td>\n",
       "      <td>7.246</td>\n",
       "      <td>drama</td>\n",
       "      <td>US</td>\n",
       "    </tr>\n",
       "  </tbody>\n",
       "</table>\n",
       "</div>"
      ],
      "text/plain": [
       "         id                                title   type  \\\n",
       "0  ts300399  Five Came Back: The Reference Films   SHOW   \n",
       "1   tm82169                                Rocky  MOVIE   \n",
       "2   tm17823                               Grease  MOVIE   \n",
       "3  tm191099                            The Sting  MOVIE   \n",
       "4   tm69975                             Rocky II  MOVIE   \n",
       "\n",
       "                                         description  release_year  \\\n",
       "0  This collection includes 12 World War II-era p...          1945   \n",
       "1  When world heavyweight boxing champion, Apollo...          1976   \n",
       "2  Australian good girl Sandy and greaser Danny f...          1978   \n",
       "3  A novice con man teams up with an acknowledged...          1973   \n",
       "4  After Rocky goes the distance with champ Apoll...          1979   \n",
       "\n",
       "  age_certification  runtime  seasons    imdb_id  imdb_score  imdb_votes  \\\n",
       "0             TV-MA       51      1.0        NaN         NaN         NaN   \n",
       "1                PG      119      NaN  tt0075148         8.1    588100.0   \n",
       "2                PG      110      NaN  tt0077631         7.2    283316.0   \n",
       "3                PG      129      NaN  tt0070735         8.3    266738.0   \n",
       "4                PG      119      NaN  tt0079817         7.3    216307.0   \n",
       "\n",
       "   tmdb_popularity  tmdb_score          genre production_country  \n",
       "0            0.601         NaN  documentation                 US  \n",
       "1          106.361       7.782          drama                 US  \n",
       "2           33.160       7.406        romance                 US  \n",
       "3           24.616       8.020          crime                 US  \n",
       "4           75.699       7.246          drama                 US  "
      ]
     },
     "execution_count": 18,
     "metadata": {},
     "output_type": "execute_result"
    }
   ],
   "source": [
    "titles.head()"
   ]
  },
  {
   "cell_type": "code",
   "execution_count": 19,
   "id": "1e9764a4-8dec-4ce6-9e35-197bfc040fe3",
   "metadata": {},
   "outputs": [
    {
     "data": {
      "text/plain": [
       "array(['documentation', 'drama', 'romance', 'crime', 'fantasy', 'comedy',\n",
       "       'thriller', 'action', 'animation', 'family', 'reality', 'scifi',\n",
       "       'western', 'horror', '', 'war', 'music', 'history', 'sport',\n",
       "       'european'], dtype=object)"
      ]
     },
     "execution_count": 19,
     "metadata": {},
     "output_type": "execute_result"
    }
   ],
   "source": [
    "titles['genre'].unique()"
   ]
  },
  {
   "cell_type": "code",
   "execution_count": 20,
   "id": "d22f9914-63fb-4d78-b12a-e0c80b00ee8e",
   "metadata": {},
   "outputs": [
    {
     "data": {
      "text/plain": [
       "array(['US', 'GB', 'EG', 'IN', 'DE', 'CA', 'LB', 'JP', 'AR', '', 'FR',\n",
       "       'IE', 'AU', 'ET', 'HK', 'MX', 'CN', 'ES', 'CO', 'SU', 'IT', 'TR',\n",
       "       'NZ', 'DK', 'TW', 'KR', 'RU', 'NG', 'PS', 'MY', 'PH', 'ZA', 'MA',\n",
       "       'SE', 'SG', 'KE', 'NO', 'CL', 'SA', 'BR', 'ID', 'IS', 'IL', 'PL',\n",
       "       'FI', 'CD', 'RO', 'AE', 'BE', 'NL', 'UA', 'QA', 'SY', 'GL', 'AT',\n",
       "       'BY', 'JO', 'VN', 'TN', 'CZ', 'TH', 'GE', 'KH', 'CH', 'CU', 'UY',\n",
       "       'PE', 'PR', 'KW', 'IR', 'PY', 'PK', 'HU', 'IQ', 'BD', 'TZ', 'CM',\n",
       "       'KG', 'LU', 'SN', 'BT', 'PT', 'AO', 'GH', 'ZW', 'MW', 'GT', 'MU',\n",
       "       'IO', 'BG', 'AF', 'DO', 'PA', 'FO', 'XC', 'DZ', 'MC', 'MK', 'BO',\n",
       "       'EC', 'YU', 'LI', 'VE', 'SK', 'JM', 'RS', 'GR', 'LT', 'KZ', 'MT',\n",
       "       'TT', 'XK', 'TC', 'NP', 'MN', 'NI', 'SB', 'CR', 'UZ', 'NA', 'EE',\n",
       "       'LV', 'BM', 'PF', 'HN', 'CI', 'BW', 'ZM', 'BS'], dtype=object)"
      ]
     },
     "execution_count": 20,
     "metadata": {},
     "output_type": "execute_result"
    }
   ],
   "source": [
    "titles['production_country'].unique()"
   ]
  },
  {
   "cell_type": "markdown",
   "id": "225059e7-05f4-4b6e-b0f0-dafc5c2dbc94",
   "metadata": {},
   "source": [
    "### Fill empty values in the columns above with NaN"
   ]
  },
  {
   "cell_type": "code",
   "execution_count": 21,
   "id": "cab68182-d8b4-4b01-878d-63efcb6c148e",
   "metadata": {},
   "outputs": [],
   "source": [
    "titles['genre'] = titles['genre'].replace('', np.nan)\n",
    "titles['production_country'] = titles['production_country'].replace('',np.nan)\n"
   ]
  },
  {
   "cell_type": "code",
   "execution_count": 22,
   "id": "75d44468-fee8-4f24-81b0-c17ba58798fa",
   "metadata": {},
   "outputs": [
    {
     "data": {
      "text/plain": [
       "array(['documentation', 'drama', 'romance', 'crime', 'fantasy', 'comedy',\n",
       "       'thriller', 'action', 'animation', 'family', 'reality', 'scifi',\n",
       "       'western', 'horror', nan, 'war', 'music', 'history', 'sport',\n",
       "       'european'], dtype=object)"
      ]
     },
     "execution_count": 22,
     "metadata": {},
     "output_type": "execute_result"
    }
   ],
   "source": [
    "titles['genre'].unique()"
   ]
  },
  {
   "cell_type": "code",
   "execution_count": 23,
   "id": "0e6a0da7-1346-4336-a530-2d591c7d1c6b",
   "metadata": {},
   "outputs": [
    {
     "data": {
      "text/plain": [
       "id                        0\n",
       "title                     0\n",
       "type                      0\n",
       "description             195\n",
       "release_year              0\n",
       "age_certification     11981\n",
       "runtime                   0\n",
       "seasons               17739\n",
       "imdb_id                1950\n",
       "imdb_score             2558\n",
       "imdb_votes             2618\n",
       "tmdb_popularity         720\n",
       "tmdb_score             3000\n",
       "genre                   367\n",
       "production_country     1049\n",
       "dtype: int64"
      ]
     },
     "execution_count": 23,
     "metadata": {},
     "output_type": "execute_result"
    }
   ],
   "source": [
    "titles.isnull().sum()"
   ]
  },
  {
   "cell_type": "markdown",
   "id": "6548e491-03fa-4c3c-8f97-188b05d337b2",
   "metadata": {},
   "source": [
    "### Handling the seasons columns"
   ]
  },
  {
   "cell_type": "markdown",
   "id": "d9487eab-7919-4a06-9ef0-889ad8457d93",
   "metadata": {},
   "source": [
    "#### Now let's deal with the 'seasons' column. At first glance, we can say that all the null values are of type 'MOVIE'. Let's see if this is true by comparing the number of null values with the number of movie titles that do not have a value in 'seasons'."
   ]
  },
  {
   "cell_type": "code",
   "execution_count": 24,
   "id": "1368794c-fc99-442c-9d04-4a6788e04d96",
   "metadata": {},
   "outputs": [
    {
     "data": {
      "text/plain": [
       "True"
      ]
     },
     "execution_count": 24,
     "metadata": {},
     "output_type": "execute_result"
    }
   ],
   "source": [
    "len(titles.loc[(titles['seasons'].isna()) & (titles['type'] == 'MOVIE')]) == titles.seasons.isna().sum()"
   ]
  },
  {
   "cell_type": "code",
   "execution_count": 25,
   "id": "fee525e0-f030-49e8-b69b-6b03f0e3e785",
   "metadata": {},
   "outputs": [
    {
     "name": "stderr",
     "output_type": "stream",
     "text": [
      "/tmp/ipykernel_7139/3170731522.py:2: FutureWarning: A value is trying to be set on a copy of a DataFrame or Series through chained assignment using an inplace method.\n",
      "The behavior will change in pandas 3.0. This inplace method will never work because the intermediate object on which we are setting values always behaves as a copy.\n",
      "\n",
      "For example, when doing 'df[col].method(value, inplace=True)', try using 'df.method({col: value}, inplace=True)' or df[col] = df[col].method(value) instead, to perform the operation inplace on the original object.\n",
      "\n",
      "\n",
      "  titles['seasons'].fillna(0, inplace=True)\n"
     ]
    }
   ],
   "source": [
    "# change all the null values from seasons to 0\n",
    "titles['seasons'].fillna(0, inplace=True)"
   ]
  },
  {
   "cell_type": "code",
   "execution_count": 26,
   "id": "c9dab7da-064f-4b4d-86a0-6703eff37828",
   "metadata": {},
   "outputs": [
    {
     "data": {
      "text/html": [
       "<div>\n",
       "<style scoped>\n",
       "    .dataframe tbody tr th:only-of-type {\n",
       "        vertical-align: middle;\n",
       "    }\n",
       "\n",
       "    .dataframe tbody tr th {\n",
       "        vertical-align: top;\n",
       "    }\n",
       "\n",
       "    .dataframe thead th {\n",
       "        text-align: right;\n",
       "    }\n",
       "</style>\n",
       "<table border=\"1\" class=\"dataframe\">\n",
       "  <thead>\n",
       "    <tr style=\"text-align: right;\">\n",
       "      <th></th>\n",
       "      <th>id</th>\n",
       "      <th>title</th>\n",
       "      <th>type</th>\n",
       "      <th>description</th>\n",
       "      <th>release_year</th>\n",
       "      <th>age_certification</th>\n",
       "      <th>runtime</th>\n",
       "      <th>seasons</th>\n",
       "      <th>imdb_id</th>\n",
       "      <th>imdb_score</th>\n",
       "      <th>imdb_votes</th>\n",
       "      <th>tmdb_popularity</th>\n",
       "      <th>tmdb_score</th>\n",
       "      <th>genre</th>\n",
       "      <th>production_country</th>\n",
       "    </tr>\n",
       "  </thead>\n",
       "  <tbody>\n",
       "    <tr>\n",
       "      <th>0</th>\n",
       "      <td>ts300399</td>\n",
       "      <td>Five Came Back: The Reference Films</td>\n",
       "      <td>SHOW</td>\n",
       "      <td>This collection includes 12 World War II-era p...</td>\n",
       "      <td>1945</td>\n",
       "      <td>TV-MA</td>\n",
       "      <td>51</td>\n",
       "      <td>1.0</td>\n",
       "      <td>NaN</td>\n",
       "      <td>NaN</td>\n",
       "      <td>NaN</td>\n",
       "      <td>0.601</td>\n",
       "      <td>NaN</td>\n",
       "      <td>documentation</td>\n",
       "      <td>US</td>\n",
       "    </tr>\n",
       "    <tr>\n",
       "      <th>1</th>\n",
       "      <td>tm82169</td>\n",
       "      <td>Rocky</td>\n",
       "      <td>MOVIE</td>\n",
       "      <td>When world heavyweight boxing champion, Apollo...</td>\n",
       "      <td>1976</td>\n",
       "      <td>PG</td>\n",
       "      <td>119</td>\n",
       "      <td>0.0</td>\n",
       "      <td>tt0075148</td>\n",
       "      <td>8.1</td>\n",
       "      <td>588100.0</td>\n",
       "      <td>106.361</td>\n",
       "      <td>7.782</td>\n",
       "      <td>drama</td>\n",
       "      <td>US</td>\n",
       "    </tr>\n",
       "    <tr>\n",
       "      <th>2</th>\n",
       "      <td>tm17823</td>\n",
       "      <td>Grease</td>\n",
       "      <td>MOVIE</td>\n",
       "      <td>Australian good girl Sandy and greaser Danny f...</td>\n",
       "      <td>1978</td>\n",
       "      <td>PG</td>\n",
       "      <td>110</td>\n",
       "      <td>0.0</td>\n",
       "      <td>tt0077631</td>\n",
       "      <td>7.2</td>\n",
       "      <td>283316.0</td>\n",
       "      <td>33.160</td>\n",
       "      <td>7.406</td>\n",
       "      <td>romance</td>\n",
       "      <td>US</td>\n",
       "    </tr>\n",
       "    <tr>\n",
       "      <th>3</th>\n",
       "      <td>tm191099</td>\n",
       "      <td>The Sting</td>\n",
       "      <td>MOVIE</td>\n",
       "      <td>A novice con man teams up with an acknowledged...</td>\n",
       "      <td>1973</td>\n",
       "      <td>PG</td>\n",
       "      <td>129</td>\n",
       "      <td>0.0</td>\n",
       "      <td>tt0070735</td>\n",
       "      <td>8.3</td>\n",
       "      <td>266738.0</td>\n",
       "      <td>24.616</td>\n",
       "      <td>8.020</td>\n",
       "      <td>crime</td>\n",
       "      <td>US</td>\n",
       "    </tr>\n",
       "    <tr>\n",
       "      <th>4</th>\n",
       "      <td>tm69975</td>\n",
       "      <td>Rocky II</td>\n",
       "      <td>MOVIE</td>\n",
       "      <td>After Rocky goes the distance with champ Apoll...</td>\n",
       "      <td>1979</td>\n",
       "      <td>PG</td>\n",
       "      <td>119</td>\n",
       "      <td>0.0</td>\n",
       "      <td>tt0079817</td>\n",
       "      <td>7.3</td>\n",
       "      <td>216307.0</td>\n",
       "      <td>75.699</td>\n",
       "      <td>7.246</td>\n",
       "      <td>drama</td>\n",
       "      <td>US</td>\n",
       "    </tr>\n",
       "  </tbody>\n",
       "</table>\n",
       "</div>"
      ],
      "text/plain": [
       "         id                                title   type  \\\n",
       "0  ts300399  Five Came Back: The Reference Films   SHOW   \n",
       "1   tm82169                                Rocky  MOVIE   \n",
       "2   tm17823                               Grease  MOVIE   \n",
       "3  tm191099                            The Sting  MOVIE   \n",
       "4   tm69975                             Rocky II  MOVIE   \n",
       "\n",
       "                                         description  release_year  \\\n",
       "0  This collection includes 12 World War II-era p...          1945   \n",
       "1  When world heavyweight boxing champion, Apollo...          1976   \n",
       "2  Australian good girl Sandy and greaser Danny f...          1978   \n",
       "3  A novice con man teams up with an acknowledged...          1973   \n",
       "4  After Rocky goes the distance with champ Apoll...          1979   \n",
       "\n",
       "  age_certification  runtime  seasons    imdb_id  imdb_score  imdb_votes  \\\n",
       "0             TV-MA       51      1.0        NaN         NaN         NaN   \n",
       "1                PG      119      0.0  tt0075148         8.1    588100.0   \n",
       "2                PG      110      0.0  tt0077631         7.2    283316.0   \n",
       "3                PG      129      0.0  tt0070735         8.3    266738.0   \n",
       "4                PG      119      0.0  tt0079817         7.3    216307.0   \n",
       "\n",
       "   tmdb_popularity  tmdb_score          genre production_country  \n",
       "0            0.601         NaN  documentation                 US  \n",
       "1          106.361       7.782          drama                 US  \n",
       "2           33.160       7.406        romance                 US  \n",
       "3           24.616       8.020          crime                 US  \n",
       "4           75.699       7.246          drama                 US  "
      ]
     },
     "execution_count": 26,
     "metadata": {},
     "output_type": "execute_result"
    }
   ],
   "source": [
    "titles.head()"
   ]
  },
  {
   "cell_type": "code",
   "execution_count": 27,
   "id": "5add8bc9-0dd4-4cc4-b6e6-5907a6a640e4",
   "metadata": {},
   "outputs": [
    {
     "data": {
      "text/plain": [
       "id                        0\n",
       "title                     0\n",
       "type                      0\n",
       "description             195\n",
       "release_year              0\n",
       "age_certification     11981\n",
       "runtime                   0\n",
       "seasons                   0\n",
       "imdb_id                1950\n",
       "imdb_score             2558\n",
       "imdb_votes             2618\n",
       "tmdb_popularity         720\n",
       "tmdb_score             3000\n",
       "genre                   367\n",
       "production_country     1049\n",
       "dtype: int64"
      ]
     },
     "execution_count": 27,
     "metadata": {},
     "output_type": "execute_result"
    }
   ],
   "source": [
    "titles.isna().sum()"
   ]
  },
  {
   "cell_type": "markdown",
   "id": "69504e6a-d287-448e-9536-d80d9fae9618",
   "metadata": {},
   "source": [
    "## Dropping some columns"
   ]
  },
  {
   "cell_type": "code",
   "execution_count": 28,
   "id": "024a8bf6-bde2-4cc6-a830-d2a8febfa9f4",
   "metadata": {},
   "outputs": [],
   "source": [
    "# dropping 'imdb_id', and 'age_certification' columns\n",
    "titles.drop(['imdb_id', 'age_certification'], axis=1, inplace=True)"
   ]
  },
  {
   "cell_type": "code",
   "execution_count": 29,
   "id": "e77aa710-7462-4590-9b24-9012d294748f",
   "metadata": {},
   "outputs": [
    {
     "data": {
      "text/plain": [
       "Index(['id', 'title', 'type', 'description', 'release_year', 'runtime',\n",
       "       'seasons', 'imdb_score', 'imdb_votes', 'tmdb_popularity', 'tmdb_score',\n",
       "       'genre', 'production_country'],\n",
       "      dtype='object')"
      ]
     },
     "execution_count": 29,
     "metadata": {},
     "output_type": "execute_result"
    }
   ],
   "source": [
    "titles.columns"
   ]
  },
  {
   "cell_type": "code",
   "execution_count": 30,
   "id": "22abcc27-e71d-4b86-96c2-e8056c89a326",
   "metadata": {},
   "outputs": [
    {
     "data": {
      "text/plain": [
       "id                       0\n",
       "title                    0\n",
       "type                     0\n",
       "description            195\n",
       "release_year             0\n",
       "runtime                  0\n",
       "seasons                  0\n",
       "imdb_score            2558\n",
       "imdb_votes            2618\n",
       "tmdb_popularity        720\n",
       "tmdb_score            3000\n",
       "genre                  367\n",
       "production_country    1049\n",
       "dtype: int64"
      ]
     },
     "execution_count": 30,
     "metadata": {},
     "output_type": "execute_result"
    }
   ],
   "source": [
    "titles.isna().sum()"
   ]
  },
  {
   "cell_type": "markdown",
   "id": "2460f6ac-1469-4beb-8806-3565712f48a8",
   "metadata": {},
   "source": [
    "### Removing other Null values"
   ]
  },
  {
   "cell_type": "code",
   "execution_count": 31,
   "id": "c1f95765-0aab-4cb8-bd58-e75e07f4a5ac",
   "metadata": {},
   "outputs": [],
   "source": [
    "titles.dropna(inplace=True)"
   ]
  },
  {
   "cell_type": "code",
   "execution_count": 32,
   "id": "8fcff1e9-27aa-470a-aad2-1587f20a92b8",
   "metadata": {},
   "outputs": [
    {
     "data": {
      "text/plain": [
       "id                    0\n",
       "title                 0\n",
       "type                  0\n",
       "description           0\n",
       "release_year          0\n",
       "runtime               0\n",
       "seasons               0\n",
       "imdb_score            0\n",
       "imdb_votes            0\n",
       "tmdb_popularity       0\n",
       "tmdb_score            0\n",
       "genre                 0\n",
       "production_country    0\n",
       "dtype: int64"
      ]
     },
     "execution_count": 32,
     "metadata": {},
     "output_type": "execute_result"
    }
   ],
   "source": [
    "titles.isna().sum()"
   ]
  },
  {
   "cell_type": "code",
   "execution_count": 33,
   "id": "332fdf92-25e9-41dd-a28a-fc0af5d5f0f3",
   "metadata": {},
   "outputs": [
    {
     "name": "stdout",
     "output_type": "stream",
     "text": [
      "<class 'pandas.core.frame.DataFrame'>\n",
      "Index: 18374 entries, 1 to 25243\n",
      "Data columns (total 13 columns):\n",
      " #   Column              Non-Null Count  Dtype  \n",
      "---  ------              --------------  -----  \n",
      " 0   id                  18374 non-null  object \n",
      " 1   title               18374 non-null  object \n",
      " 2   type                18374 non-null  object \n",
      " 3   description         18374 non-null  object \n",
      " 4   release_year        18374 non-null  int64  \n",
      " 5   runtime             18374 non-null  int64  \n",
      " 6   seasons             18374 non-null  float64\n",
      " 7   imdb_score          18374 non-null  float64\n",
      " 8   imdb_votes          18374 non-null  float64\n",
      " 9   tmdb_popularity     18374 non-null  float64\n",
      " 10  tmdb_score          18374 non-null  float64\n",
      " 11  genre               18374 non-null  object \n",
      " 12  production_country  18374 non-null  object \n",
      "dtypes: float64(5), int64(2), object(6)\n",
      "memory usage: 2.0+ MB\n"
     ]
    }
   ],
   "source": [
    "titles.info()"
   ]
  },
  {
   "cell_type": "markdown",
   "id": "d9ac164d-75ce-4b93-8f64-816e1af076a5",
   "metadata": {},
   "source": [
    "# Creating Content Based Recommender"
   ]
  },
  {
   "cell_type": "markdown",
   "id": "8970e893-1747-4d9d-b111-4ed3476bb3d7",
   "metadata": {},
   "source": [
    "### We will build a recommendation system based on the description of titles. We will calculate pairwise similarity scores for all movies/tv shows based on their descriptions and recommend titles with similar scores."
   ]
  },
  {
   "cell_type": "code",
   "execution_count": 34,
   "id": "4bdcdfb2-dd6a-4016-9590-25b3a812d221",
   "metadata": {},
   "outputs": [
    {
     "data": {
      "text/plain": [
       "1    When world heavyweight boxing champion, Apollo...\n",
       "2    Australian good girl Sandy and greaser Danny f...\n",
       "3    A novice con man teams up with an acknowledged...\n",
       "4    After Rocky goes the distance with champ Apoll...\n",
       "5    King Arthur, accompanied by his squire, recrui...\n",
       "Name: description, dtype: object"
      ]
     },
     "execution_count": 34,
     "metadata": {},
     "output_type": "execute_result"
    }
   ],
   "source": [
    "titles['description'].head()"
   ]
  },
  {
   "cell_type": "code",
   "execution_count": 35,
   "id": "716e401f-e2d9-4c3e-8882-3bbcf96253cb",
   "metadata": {},
   "outputs": [],
   "source": [
    "# create a streaming platform column to present where the titles are available\n",
    "lt = []\n",
    "for i in titles['id']:\n",
    "     movie_streaming = []\n",
    "     if i in amazon_titles['id'].values:\n",
    "        movie_streaming.append('amazon')\n",
    "     if i in appletv_titles['id'].values:\n",
    "        movie_streaming.append('appletv')\n",
    "     if i in disney_titles['id'].values:\n",
    "        movie_streaming.append('disney+')\n",
    "     if i in hbo_titles['id'].values:\n",
    "        movie_streaming.append('hbomax')\n",
    "     if i in netflix_titles['id'].values:\n",
    "        movie_streaming.append('netflix')\n",
    "     if i in paramount_titles['id'].values:\n",
    "        movie_streaming.append('paramount+')\n",
    "     lt.append(movie_streaming)\n",
    "\n",
    "    "
   ]
  },
  {
   "cell_type": "code",
   "execution_count": 36,
   "id": "758c33b9-51b7-41e4-ae88-ad790cb563ec",
   "metadata": {},
   "outputs": [],
   "source": [
    "titles['streaming_platform'] = lt"
   ]
  },
  {
   "cell_type": "code",
   "execution_count": 37,
   "id": "2570d8cd-0562-4e7a-a252-37ad1cb7d1f8",
   "metadata": {},
   "outputs": [
    {
     "data": {
      "text/plain": [
       "1        [amazon, disney+, paramount+]\n",
       "2                 [amazon, paramount+]\n",
       "3                             [amazon]\n",
       "4        [amazon, disney+, paramount+]\n",
       "5                             [amazon]\n",
       "                     ...              \n",
       "25237                     [paramount+]\n",
       "25239                     [paramount+]\n",
       "25240                     [paramount+]\n",
       "25241                     [paramount+]\n",
       "25243                     [paramount+]\n",
       "Name: streaming_platform, Length: 18374, dtype: object"
      ]
     },
     "execution_count": 37,
     "metadata": {},
     "output_type": "execute_result"
    }
   ],
   "source": [
    "titles['streaming_platform']"
   ]
  },
  {
   "cell_type": "code",
   "execution_count": 38,
   "id": "432250e7-df82-47ed-80eb-21686f0c2cb1",
   "metadata": {},
   "outputs": [
    {
     "data": {
      "text/html": [
       "<div>\n",
       "<style scoped>\n",
       "    .dataframe tbody tr th:only-of-type {\n",
       "        vertical-align: middle;\n",
       "    }\n",
       "\n",
       "    .dataframe tbody tr th {\n",
       "        vertical-align: top;\n",
       "    }\n",
       "\n",
       "    .dataframe thead th {\n",
       "        text-align: right;\n",
       "    }\n",
       "</style>\n",
       "<table border=\"1\" class=\"dataframe\">\n",
       "  <thead>\n",
       "    <tr style=\"text-align: right;\">\n",
       "      <th></th>\n",
       "      <th>id</th>\n",
       "      <th>title</th>\n",
       "      <th>type</th>\n",
       "      <th>description</th>\n",
       "      <th>release_year</th>\n",
       "      <th>runtime</th>\n",
       "      <th>seasons</th>\n",
       "      <th>imdb_score</th>\n",
       "      <th>imdb_votes</th>\n",
       "      <th>tmdb_popularity</th>\n",
       "      <th>tmdb_score</th>\n",
       "      <th>genre</th>\n",
       "      <th>production_country</th>\n",
       "      <th>streaming_platform</th>\n",
       "    </tr>\n",
       "  </thead>\n",
       "  <tbody>\n",
       "    <tr>\n",
       "      <th>1</th>\n",
       "      <td>tm82169</td>\n",
       "      <td>Rocky</td>\n",
       "      <td>MOVIE</td>\n",
       "      <td>When world heavyweight boxing champion, Apollo...</td>\n",
       "      <td>1976</td>\n",
       "      <td>119</td>\n",
       "      <td>0.0</td>\n",
       "      <td>8.1</td>\n",
       "      <td>588100.0</td>\n",
       "      <td>106.361</td>\n",
       "      <td>7.782</td>\n",
       "      <td>drama</td>\n",
       "      <td>US</td>\n",
       "      <td>[amazon, disney+, paramount+]</td>\n",
       "    </tr>\n",
       "    <tr>\n",
       "      <th>2</th>\n",
       "      <td>tm17823</td>\n",
       "      <td>Grease</td>\n",
       "      <td>MOVIE</td>\n",
       "      <td>Australian good girl Sandy and greaser Danny f...</td>\n",
       "      <td>1978</td>\n",
       "      <td>110</td>\n",
       "      <td>0.0</td>\n",
       "      <td>7.2</td>\n",
       "      <td>283316.0</td>\n",
       "      <td>33.160</td>\n",
       "      <td>7.406</td>\n",
       "      <td>romance</td>\n",
       "      <td>US</td>\n",
       "      <td>[amazon, paramount+]</td>\n",
       "    </tr>\n",
       "    <tr>\n",
       "      <th>3</th>\n",
       "      <td>tm191099</td>\n",
       "      <td>The Sting</td>\n",
       "      <td>MOVIE</td>\n",
       "      <td>A novice con man teams up with an acknowledged...</td>\n",
       "      <td>1973</td>\n",
       "      <td>129</td>\n",
       "      <td>0.0</td>\n",
       "      <td>8.3</td>\n",
       "      <td>266738.0</td>\n",
       "      <td>24.616</td>\n",
       "      <td>8.020</td>\n",
       "      <td>crime</td>\n",
       "      <td>US</td>\n",
       "      <td>[amazon]</td>\n",
       "    </tr>\n",
       "    <tr>\n",
       "      <th>4</th>\n",
       "      <td>tm69975</td>\n",
       "      <td>Rocky II</td>\n",
       "      <td>MOVIE</td>\n",
       "      <td>After Rocky goes the distance with champ Apoll...</td>\n",
       "      <td>1979</td>\n",
       "      <td>119</td>\n",
       "      <td>0.0</td>\n",
       "      <td>7.3</td>\n",
       "      <td>216307.0</td>\n",
       "      <td>75.699</td>\n",
       "      <td>7.246</td>\n",
       "      <td>drama</td>\n",
       "      <td>US</td>\n",
       "      <td>[amazon, disney+, paramount+]</td>\n",
       "    </tr>\n",
       "    <tr>\n",
       "      <th>5</th>\n",
       "      <td>tm127384</td>\n",
       "      <td>Monty Python and the Holy Grail</td>\n",
       "      <td>MOVIE</td>\n",
       "      <td>King Arthur, accompanied by his squire, recrui...</td>\n",
       "      <td>1975</td>\n",
       "      <td>91</td>\n",
       "      <td>0.0</td>\n",
       "      <td>8.2</td>\n",
       "      <td>547292.0</td>\n",
       "      <td>20.964</td>\n",
       "      <td>7.804</td>\n",
       "      <td>fantasy</td>\n",
       "      <td>GB</td>\n",
       "      <td>[amazon]</td>\n",
       "    </tr>\n",
       "  </tbody>\n",
       "</table>\n",
       "</div>"
      ],
      "text/plain": [
       "         id                            title   type  \\\n",
       "1   tm82169                            Rocky  MOVIE   \n",
       "2   tm17823                           Grease  MOVIE   \n",
       "3  tm191099                        The Sting  MOVIE   \n",
       "4   tm69975                         Rocky II  MOVIE   \n",
       "5  tm127384  Monty Python and the Holy Grail  MOVIE   \n",
       "\n",
       "                                         description  release_year  runtime  \\\n",
       "1  When world heavyweight boxing champion, Apollo...          1976      119   \n",
       "2  Australian good girl Sandy and greaser Danny f...          1978      110   \n",
       "3  A novice con man teams up with an acknowledged...          1973      129   \n",
       "4  After Rocky goes the distance with champ Apoll...          1979      119   \n",
       "5  King Arthur, accompanied by his squire, recrui...          1975       91   \n",
       "\n",
       "   seasons  imdb_score  imdb_votes  tmdb_popularity  tmdb_score    genre  \\\n",
       "1      0.0         8.1    588100.0          106.361       7.782    drama   \n",
       "2      0.0         7.2    283316.0           33.160       7.406  romance   \n",
       "3      0.0         8.3    266738.0           24.616       8.020    crime   \n",
       "4      0.0         7.3    216307.0           75.699       7.246    drama   \n",
       "5      0.0         8.2    547292.0           20.964       7.804  fantasy   \n",
       "\n",
       "  production_country             streaming_platform  \n",
       "1                 US  [amazon, disney+, paramount+]  \n",
       "2                 US           [amazon, paramount+]  \n",
       "3                 US                       [amazon]  \n",
       "4                 US  [amazon, disney+, paramount+]  \n",
       "5                 GB                       [amazon]  "
      ]
     },
     "execution_count": 38,
     "metadata": {},
     "output_type": "execute_result"
    }
   ],
   "source": [
    "titles.head()"
   ]
  },
  {
   "cell_type": "code",
   "execution_count": 39,
   "id": "0acb1777-0d72-46ed-85b3-12e8f5fd4025",
   "metadata": {},
   "outputs": [
    {
     "data": {
      "text/plain": [
       "(18374, 14)"
      ]
     },
     "execution_count": 39,
     "metadata": {},
     "output_type": "execute_result"
    }
   ],
   "source": [
    "titles.shape"
   ]
  },
  {
   "cell_type": "markdown",
   "id": "e628e036-27b5-460d-a86c-b1774a9c3065",
   "metadata": {},
   "source": [
    "## Separate Data"
   ]
  },
  {
   "cell_type": "markdown",
   "id": "98c62dbe-0491-47fc-af0d-e2b9a4fd2ca0",
   "metadata": {},
   "source": [
    "### Separate Data by creating two different DataFrames"
   ]
  },
  {
   "cell_type": "code",
   "execution_count": 40,
   "id": "ae4b422a-aa1a-45e0-bd63-c02ae110e569",
   "metadata": {},
   "outputs": [],
   "source": [
    "# DataFrames are movies and shows\n",
    "movies = titles[titles['type'] == 'MOVIE'].copy()\n",
    "shows = titles[titles['type'] == 'SHOW'].copy()\n"
   ]
  },
  {
   "cell_type": "code",
   "execution_count": 41,
   "id": "0948ba7e-9152-4215-8cbc-cb5e39d4cec7",
   "metadata": {},
   "outputs": [
    {
     "data": {
      "text/html": [
       "<div>\n",
       "<style scoped>\n",
       "    .dataframe tbody tr th:only-of-type {\n",
       "        vertical-align: middle;\n",
       "    }\n",
       "\n",
       "    .dataframe tbody tr th {\n",
       "        vertical-align: top;\n",
       "    }\n",
       "\n",
       "    .dataframe thead th {\n",
       "        text-align: right;\n",
       "    }\n",
       "</style>\n",
       "<table border=\"1\" class=\"dataframe\">\n",
       "  <thead>\n",
       "    <tr style=\"text-align: right;\">\n",
       "      <th></th>\n",
       "      <th>id</th>\n",
       "      <th>title</th>\n",
       "      <th>type</th>\n",
       "      <th>description</th>\n",
       "      <th>release_year</th>\n",
       "      <th>runtime</th>\n",
       "      <th>seasons</th>\n",
       "      <th>imdb_score</th>\n",
       "      <th>imdb_votes</th>\n",
       "      <th>tmdb_popularity</th>\n",
       "      <th>tmdb_score</th>\n",
       "      <th>genre</th>\n",
       "      <th>production_country</th>\n",
       "      <th>streaming_platform</th>\n",
       "    </tr>\n",
       "  </thead>\n",
       "  <tbody>\n",
       "    <tr>\n",
       "      <th>1</th>\n",
       "      <td>tm82169</td>\n",
       "      <td>Rocky</td>\n",
       "      <td>MOVIE</td>\n",
       "      <td>When world heavyweight boxing champion, Apollo...</td>\n",
       "      <td>1976</td>\n",
       "      <td>119</td>\n",
       "      <td>0.0</td>\n",
       "      <td>8.1</td>\n",
       "      <td>588100.0</td>\n",
       "      <td>106.361</td>\n",
       "      <td>7.782</td>\n",
       "      <td>drama</td>\n",
       "      <td>US</td>\n",
       "      <td>[amazon, disney+, paramount+]</td>\n",
       "    </tr>\n",
       "    <tr>\n",
       "      <th>2</th>\n",
       "      <td>tm17823</td>\n",
       "      <td>Grease</td>\n",
       "      <td>MOVIE</td>\n",
       "      <td>Australian good girl Sandy and greaser Danny f...</td>\n",
       "      <td>1978</td>\n",
       "      <td>110</td>\n",
       "      <td>0.0</td>\n",
       "      <td>7.2</td>\n",
       "      <td>283316.0</td>\n",
       "      <td>33.160</td>\n",
       "      <td>7.406</td>\n",
       "      <td>romance</td>\n",
       "      <td>US</td>\n",
       "      <td>[amazon, paramount+]</td>\n",
       "    </tr>\n",
       "    <tr>\n",
       "      <th>3</th>\n",
       "      <td>tm191099</td>\n",
       "      <td>The Sting</td>\n",
       "      <td>MOVIE</td>\n",
       "      <td>A novice con man teams up with an acknowledged...</td>\n",
       "      <td>1973</td>\n",
       "      <td>129</td>\n",
       "      <td>0.0</td>\n",
       "      <td>8.3</td>\n",
       "      <td>266738.0</td>\n",
       "      <td>24.616</td>\n",
       "      <td>8.020</td>\n",
       "      <td>crime</td>\n",
       "      <td>US</td>\n",
       "      <td>[amazon]</td>\n",
       "    </tr>\n",
       "    <tr>\n",
       "      <th>4</th>\n",
       "      <td>tm69975</td>\n",
       "      <td>Rocky II</td>\n",
       "      <td>MOVIE</td>\n",
       "      <td>After Rocky goes the distance with champ Apoll...</td>\n",
       "      <td>1979</td>\n",
       "      <td>119</td>\n",
       "      <td>0.0</td>\n",
       "      <td>7.3</td>\n",
       "      <td>216307.0</td>\n",
       "      <td>75.699</td>\n",
       "      <td>7.246</td>\n",
       "      <td>drama</td>\n",
       "      <td>US</td>\n",
       "      <td>[amazon, disney+, paramount+]</td>\n",
       "    </tr>\n",
       "    <tr>\n",
       "      <th>5</th>\n",
       "      <td>tm127384</td>\n",
       "      <td>Monty Python and the Holy Grail</td>\n",
       "      <td>MOVIE</td>\n",
       "      <td>King Arthur, accompanied by his squire, recrui...</td>\n",
       "      <td>1975</td>\n",
       "      <td>91</td>\n",
       "      <td>0.0</td>\n",
       "      <td>8.2</td>\n",
       "      <td>547292.0</td>\n",
       "      <td>20.964</td>\n",
       "      <td>7.804</td>\n",
       "      <td>fantasy</td>\n",
       "      <td>GB</td>\n",
       "      <td>[amazon]</td>\n",
       "    </tr>\n",
       "  </tbody>\n",
       "</table>\n",
       "</div>"
      ],
      "text/plain": [
       "         id                            title   type  \\\n",
       "1   tm82169                            Rocky  MOVIE   \n",
       "2   tm17823                           Grease  MOVIE   \n",
       "3  tm191099                        The Sting  MOVIE   \n",
       "4   tm69975                         Rocky II  MOVIE   \n",
       "5  tm127384  Monty Python and the Holy Grail  MOVIE   \n",
       "\n",
       "                                         description  release_year  runtime  \\\n",
       "1  When world heavyweight boxing champion, Apollo...          1976      119   \n",
       "2  Australian good girl Sandy and greaser Danny f...          1978      110   \n",
       "3  A novice con man teams up with an acknowledged...          1973      129   \n",
       "4  After Rocky goes the distance with champ Apoll...          1979      119   \n",
       "5  King Arthur, accompanied by his squire, recrui...          1975       91   \n",
       "\n",
       "   seasons  imdb_score  imdb_votes  tmdb_popularity  tmdb_score    genre  \\\n",
       "1      0.0         8.1    588100.0          106.361       7.782    drama   \n",
       "2      0.0         7.2    283316.0           33.160       7.406  romance   \n",
       "3      0.0         8.3    266738.0           24.616       8.020    crime   \n",
       "4      0.0         7.3    216307.0           75.699       7.246    drama   \n",
       "5      0.0         8.2    547292.0           20.964       7.804  fantasy   \n",
       "\n",
       "  production_country             streaming_platform  \n",
       "1                 US  [amazon, disney+, paramount+]  \n",
       "2                 US           [amazon, paramount+]  \n",
       "3                 US                       [amazon]  \n",
       "4                 US  [amazon, disney+, paramount+]  \n",
       "5                 GB                       [amazon]  "
      ]
     },
     "execution_count": 41,
     "metadata": {},
     "output_type": "execute_result"
    }
   ],
   "source": [
    "movies.head()"
   ]
  },
  {
   "cell_type": "code",
   "execution_count": 42,
   "id": "5b1f6114-3b5a-4b53-b031-5798c36fd3c5",
   "metadata": {},
   "outputs": [
    {
     "data": {
      "text/html": [
       "<div>\n",
       "<style scoped>\n",
       "    .dataframe tbody tr th:only-of-type {\n",
       "        vertical-align: middle;\n",
       "    }\n",
       "\n",
       "    .dataframe tbody tr th {\n",
       "        vertical-align: top;\n",
       "    }\n",
       "\n",
       "    .dataframe thead th {\n",
       "        text-align: right;\n",
       "    }\n",
       "</style>\n",
       "<table border=\"1\" class=\"dataframe\">\n",
       "  <thead>\n",
       "    <tr style=\"text-align: right;\">\n",
       "      <th></th>\n",
       "      <th>id</th>\n",
       "      <th>title</th>\n",
       "      <th>type</th>\n",
       "      <th>description</th>\n",
       "      <th>release_year</th>\n",
       "      <th>runtime</th>\n",
       "      <th>seasons</th>\n",
       "      <th>imdb_score</th>\n",
       "      <th>imdb_votes</th>\n",
       "      <th>tmdb_popularity</th>\n",
       "      <th>tmdb_score</th>\n",
       "      <th>genre</th>\n",
       "      <th>production_country</th>\n",
       "      <th>streaming_platform</th>\n",
       "    </tr>\n",
       "  </thead>\n",
       "  <tbody>\n",
       "    <tr>\n",
       "      <th>7</th>\n",
       "      <td>ts22164</td>\n",
       "      <td>Monty Python's Flying Circus</td>\n",
       "      <td>SHOW</td>\n",
       "      <td>A British sketch comedy series with the shows ...</td>\n",
       "      <td>1969</td>\n",
       "      <td>30</td>\n",
       "      <td>4.0</td>\n",
       "      <td>8.8</td>\n",
       "      <td>75654.0</td>\n",
       "      <td>24.773</td>\n",
       "      <td>8.258</td>\n",
       "      <td>comedy</td>\n",
       "      <td>GB</td>\n",
       "      <td>[amazon]</td>\n",
       "    </tr>\n",
       "    <tr>\n",
       "      <th>17</th>\n",
       "      <td>ts45948</td>\n",
       "      <td>Monty Python's Fliegender Zirkus</td>\n",
       "      <td>SHOW</td>\n",
       "      <td>Monty Python's Fliegender Zirkus consisted of ...</td>\n",
       "      <td>1972</td>\n",
       "      <td>43</td>\n",
       "      <td>1.0</td>\n",
       "      <td>8.1</td>\n",
       "      <td>2199.0</td>\n",
       "      <td>1.475</td>\n",
       "      <td>7.000</td>\n",
       "      <td>comedy</td>\n",
       "      <td>GB</td>\n",
       "      <td>[amazon]</td>\n",
       "    </tr>\n",
       "    <tr>\n",
       "      <th>35</th>\n",
       "      <td>ts20681</td>\n",
       "      <td>Seinfeld</td>\n",
       "      <td>SHOW</td>\n",
       "      <td>A stand-up comedian and his three offbeat frie...</td>\n",
       "      <td>1989</td>\n",
       "      <td>24</td>\n",
       "      <td>9.0</td>\n",
       "      <td>8.9</td>\n",
       "      <td>326487.0</td>\n",
       "      <td>270.409</td>\n",
       "      <td>8.294</td>\n",
       "      <td>comedy</td>\n",
       "      <td>US</td>\n",
       "      <td>[amazon]</td>\n",
       "    </tr>\n",
       "    <tr>\n",
       "      <th>47</th>\n",
       "      <td>ts21715</td>\n",
       "      <td>Thomas &amp; Friends</td>\n",
       "      <td>SHOW</td>\n",
       "      <td>Thomas &amp; Friends is a British children's telev...</td>\n",
       "      <td>1984</td>\n",
       "      <td>10</td>\n",
       "      <td>24.0</td>\n",
       "      <td>6.5</td>\n",
       "      <td>5528.0</td>\n",
       "      <td>72.342</td>\n",
       "      <td>6.483</td>\n",
       "      <td>animation</td>\n",
       "      <td>GB</td>\n",
       "      <td>[amazon, disney+]</td>\n",
       "    </tr>\n",
       "    <tr>\n",
       "      <th>51</th>\n",
       "      <td>ts2760</td>\n",
       "      <td>Fireman Sam</td>\n",
       "      <td>SHOW</td>\n",
       "      <td>Follow the adventures of fireman Sam and his c...</td>\n",
       "      <td>1987</td>\n",
       "      <td>10</td>\n",
       "      <td>13.0</td>\n",
       "      <td>6.1</td>\n",
       "      <td>1875.0</td>\n",
       "      <td>50.615</td>\n",
       "      <td>6.826</td>\n",
       "      <td>comedy</td>\n",
       "      <td>GB</td>\n",
       "      <td>[amazon, disney+]</td>\n",
       "    </tr>\n",
       "  </tbody>\n",
       "</table>\n",
       "</div>"
      ],
      "text/plain": [
       "         id                             title  type  \\\n",
       "7   ts22164      Monty Python's Flying Circus  SHOW   \n",
       "17  ts45948  Monty Python's Fliegender Zirkus  SHOW   \n",
       "35  ts20681                          Seinfeld  SHOW   \n",
       "47  ts21715                  Thomas & Friends  SHOW   \n",
       "51   ts2760                       Fireman Sam  SHOW   \n",
       "\n",
       "                                          description  release_year  runtime  \\\n",
       "7   A British sketch comedy series with the shows ...          1969       30   \n",
       "17  Monty Python's Fliegender Zirkus consisted of ...          1972       43   \n",
       "35  A stand-up comedian and his three offbeat frie...          1989       24   \n",
       "47  Thomas & Friends is a British children's telev...          1984       10   \n",
       "51  Follow the adventures of fireman Sam and his c...          1987       10   \n",
       "\n",
       "    seasons  imdb_score  imdb_votes  tmdb_popularity  tmdb_score      genre  \\\n",
       "7       4.0         8.8     75654.0           24.773       8.258     comedy   \n",
       "17      1.0         8.1      2199.0            1.475       7.000     comedy   \n",
       "35      9.0         8.9    326487.0          270.409       8.294     comedy   \n",
       "47     24.0         6.5      5528.0           72.342       6.483  animation   \n",
       "51     13.0         6.1      1875.0           50.615       6.826     comedy   \n",
       "\n",
       "   production_country streaming_platform  \n",
       "7                  GB           [amazon]  \n",
       "17                 GB           [amazon]  \n",
       "35                 US           [amazon]  \n",
       "47                 GB  [amazon, disney+]  \n",
       "51                 GB  [amazon, disney+]  "
      ]
     },
     "execution_count": 42,
     "metadata": {},
     "output_type": "execute_result"
    }
   ],
   "source": [
    "shows.head()"
   ]
  },
  {
   "cell_type": "markdown",
   "id": "3cb6bd10-0ce3-42da-87e7-f51507c79fee",
   "metadata": {},
   "source": [
    "## Compute Term Frequency-Inverse Document Frequency (TF-IDF)"
   ]
  },
  {
   "cell_type": "code",
   "execution_count": 43,
   "id": "aff8af51-111f-479d-8930-6bfe8e4b35c3",
   "metadata": {},
   "outputs": [],
   "source": [
    "#Define a TF-IDF Vectorizer Object. \n",
    "#This remove all english stop words such as 'the', 'a'\n",
    "tfidf = TfidfVectorizer(stop_words='english')"
   ]
  },
  {
   "cell_type": "code",
   "execution_count": 45,
   "id": "31e5af8b-0e3a-493b-85af-d505e2221a1b",
   "metadata": {},
   "outputs": [],
   "source": [
    "# Construct the required TF-IDF matrix by fitting and transforming the data\n",
    "tfidf_matrix_movies = tfidf.fit_transform(movies['description'])\n",
    "\n",
    "tfidf_matrix_shows = tfidf.fit_transform(shows['description'])"
   ]
  },
  {
   "cell_type": "code",
   "execution_count": 46,
   "id": "429ce514-e5ee-48ba-87a0-31e5960b4e55",
   "metadata": {},
   "outputs": [
    {
     "name": "stdout",
     "output_type": "stream",
     "text": [
      "Shape for Movies: (13831, 35074)\n",
      "Shape for Shows: (4543, 19365)\n"
     ]
    }
   ],
   "source": [
    "# output the shape of description\n",
    "print(f'Shape for Movies: {tfidf_matrix_movies.shape}')\n",
    "print(f'Shape for Shows: {tfidf_matrix_shows.shape}')\n"
   ]
  },
  {
   "cell_type": "markdown",
   "id": "dce0d67b-7682-4823-bbec-f54cc3cc793c",
   "metadata": {},
   "source": [
    "#### We see that over 35k different words were used to describe the 13831 titles in our movies dataset, and 19k different words to describe the 4543 titles in our shows dataset.\n",
    "#### Now, we need to calculate the similarity score. We will be using the cosine similarity to calculate a numeric quantity that denotes the similarity between two movies/shows."
   ]
  },
  {
   "cell_type": "code",
   "execution_count": 47,
   "id": "71a42be2-27da-44d3-a6ce-eb914c01f817",
   "metadata": {},
   "outputs": [],
   "source": [
    "# Compute the cosine similarity matrix\n",
    "cosine_sim_movies = linear_kernel(tfidf_matrix_movies, tfidf_matrix_movies)\n",
    "cosine_sim_shows = linear_kernel(tfidf_matrix_shows, tfidf_matrix_shows)"
   ]
  },
  {
   "cell_type": "markdown",
   "id": "c318cf83-1ce0-425a-83d0-819805933be9",
   "metadata": {},
   "source": [
    "#### Now we create a way to identify the index of a movie/show in our data, given its title."
   ]
  },
  {
   "cell_type": "code",
   "execution_count": 48,
   "id": "25132b08-ab67-4914-94cb-7a8e52d0d6b5",
   "metadata": {},
   "outputs": [],
   "source": [
    "indices_movies = pd.Series(movies.index, index=movies['title'])\n",
    "indices_shows = pd.Series(shows.index, index=shows['title'])"
   ]
  },
  {
   "cell_type": "code",
   "execution_count": 49,
   "id": "1d0f28ee-0c54-4ad4-8b01-ec18032c865f",
   "metadata": {},
   "outputs": [],
   "source": [
    "# Now, we define functions that accept a movie/show title as input \n",
    "# and produce a list of the 10 most similar titles.\n",
    "\n",
    "def get_title(title,indices):\n",
    "    \"\"\"\n",
    "    Function that gets the 'index searcher' and searches\n",
    "    the user's title index\n",
    "    \"\"\"\n",
    "    try:\n",
    "        index = indices[title]\n",
    "    except:\n",
    "        print(\"\\n Title not found\")\n",
    "        return None\n",
    "    if isinstance(index, np.int64):\n",
    "        return index\n",
    "    else:\n",
    "        rt = 0\n",
    "        print(\"Select a title: \")\n",
    "        for i in range(len(index)):\n",
    "            print(f\"{i} - {movies['title'].iloc[index[i]]}\", end=' ')\n",
    "            print(f\"({movies['release_year'].iloc[index[i]]})\")\n",
    "        rt = int(input())\n",
    "        return index[rt]"
   ]
  },
  {
   "cell_type": "code",
   "execution_count": 57,
   "id": "0fa0bebc-f6c3-4ef1-9bd6-b9f8e0e828d8",
   "metadata": {},
   "outputs": [],
   "source": [
    "def get_recommendations_movie(title, cosine_sim=cosine_sim_movies):\n",
    "    \"\"\"\n",
    "    A function that takes a movie title as input and prints on the screen\n",
    "    the 10 most similar movies based on the input description.\n",
    "    \"\"\"    \n",
    "    \n",
    "    title = get_title(title, indices_movies)\n",
    "    if title == None:\n",
    "        return \n",
    "    \n",
    "    idx = indices_movies[title]\n",
    "      \n",
    "    print(f\"Title: {movies['title'].iloc[idx]} |  Year: {movies['release_year'].iloc[idx]}\")\n",
    "\n",
    "    print('**' * 40)\n",
    "\n",
    "    # Get the pairwsie similarity scores of all movies with that movie\n",
    "    sim_scores = list(enumerate(cosine_sim[idx]))\n",
    "\n",
    "    # Sort the movies based on the similarity scores\n",
    "    sim_scores = sorted(sim_scores, key=lambda x: x[1], reverse=True)\n",
    "\n",
    "    # Get the scores of the 10 most similar movies\n",
    "    sim_scores = sim_scores[1:11]\n",
    "\n",
    "    # Get the movie indices\n",
    "    movie_indices = [i[0] for i in sim_scores]\n",
    "\n",
    "    print(movies[['title', 'release_year','streaming_platform']].iloc[movie_indices])\n",
    "\n",
    "    print('**' * 40)"
   ]
  },
  {
   "cell_type": "code",
   "execution_count": 58,
   "id": "53b2abbd-9469-431d-9737-07ebef607ffa",
   "metadata": {},
   "outputs": [],
   "source": [
    "def get_recommendations_show(title, cosine_sim=cosine_sim_shows):\n",
    "    \"\"\"\n",
    "        A function that takes a show title as input and prints on the screen\n",
    "        the 10 most similar shows based on the input description \n",
    "    \"\"\"\n",
    "    title = get_title(title, indices_shows)\n",
    "    if title == None:\n",
    "        return \n",
    "    idx = indices_shows[title]\n",
    "    print(f\"Title: {shows['title'].iloc[idx]} | Year: {shows['release_year'].iloc[idx]}\")\n",
    "\n",
    "    print('**' * 40)\n",
    "\n",
    "    # Get the pairwsie similarity scores of all shows with that show\n",
    "    sim_scores = list(enumerate(cosine_sim[idx]))\n",
    "\n",
    "    # Sort the shows based on the similarity scores\n",
    "    sim_scores = sorted(sim_scores, key=lambda x: x[1], reverse=True)\n",
    "\n",
    "    # Get the scores of the 10 most similar shows\n",
    "    sim_scores = sim_scores[1:11]\n",
    "\n",
    "    # Get the show indices\n",
    "    show_indices = [i[0] for i in sim_scores]\n",
    "\n",
    "    print(shows[['title', 'release_year', 'streaming_platform']].iloc[show_indices])\n",
    "\n",
    "    print('**' * 40)\n"
   ]
  },
  {
   "cell_type": "code",
   "execution_count": 59,
   "id": "eab81517-5f7a-447d-afa0-4005a977ecca",
   "metadata": {},
   "outputs": [
    {
     "name": "stdout",
     "output_type": "stream",
     "text": [
      "Title: The Sting |  Year: 1973\n",
      "********************************************************************************\n",
      "                              title  release_year  \\\n",
      "2                            Grease          1978   \n",
      "3                         The Sting          1973   \n",
      "4                          Rocky II          1979   \n",
      "5   Monty Python and the Holy Grail          1975   \n",
      "6                      Animal House          1978   \n",
      "8                     Life of Brian          1979   \n",
      "9                   White Christmas          1954   \n",
      "10                           Heroes          1977   \n",
      "11                Play Misty for Me          1971   \n",
      "12                    Cairo Station          1958   \n",
      "\n",
      "               streaming_platform  \n",
      "2            [amazon, paramount+]  \n",
      "3                        [amazon]  \n",
      "4   [amazon, disney+, paramount+]  \n",
      "5                        [amazon]  \n",
      "6                        [amazon]  \n",
      "8                        [amazon]  \n",
      "9                        [amazon]  \n",
      "10                       [amazon]  \n",
      "11                       [amazon]  \n",
      "12                       [amazon]  \n",
      "********************************************************************************\n"
     ]
    },
    {
     "name": "stderr",
     "output_type": "stream",
     "text": [
      "/tmp/ipykernel_7139/3275016385.py:9: FutureWarning: Series.__getitem__ treating keys as positions is deprecated. In a future version, integer keys will always be treated as labels (consistent with DataFrame behavior). To access a value by position, use `ser.iloc[pos]`\n",
      "  idx = indices_movies[title]\n"
     ]
    }
   ],
   "source": [
    "get_recomendations_movie('Rocky')"
   ]
  },
  {
   "cell_type": "code",
   "execution_count": 60,
   "id": "866ea6fc-a2e1-4211-8465-db91ab600593",
   "metadata": {},
   "outputs": [
    {
     "name": "stdout",
     "output_type": "stream",
     "text": [
      "Title: Underbelly | Year: 2008\n",
      "********************************************************************************\n",
      "                                 title  release_year streaming_platform\n",
      "1568                        Dirty John          2018           [amazon]\n",
      "8558                          Our Boys          2019          [appletv]\n",
      "24102            This Is Not Happening          2015       [paramount+]\n",
      "3222                         Stateless          2020           [amazon]\n",
      "343                         Kath & Kim          2002           [amazon]\n",
      "21552               Pixar in Real Life          2019          [netflix]\n",
      "16691                  Inés of My Soul          2020          [disney+]\n",
      "2762                        Queen Sono          2020           [amazon]\n",
      "7160                        True Blood          2008          [appletv]\n",
      "2420   Final Fantasy XIV: Dad of Light          2017           [amazon]\n",
      "********************************************************************************\n"
     ]
    },
    {
     "name": "stderr",
     "output_type": "stream",
     "text": [
      "/tmp/ipykernel_7139/1489558798.py:9: FutureWarning: Series.__getitem__ treating keys as positions is deprecated. In a future version, integer keys will always be treated as labels (consistent with DataFrame behavior). To access a value by position, use `ser.iloc[pos]`\n",
      "  idx = indices_shows[title]\n"
     ]
    }
   ],
   "source": [
    "get_recommendations_show('Narcos')"
   ]
  },
  {
   "cell_type": "code",
   "execution_count": null,
   "id": "3d0fc4e7-da0d-46f3-a398-13e4f93b3773",
   "metadata": {},
   "outputs": [],
   "source": []
  }
 ],
 "metadata": {
  "kernelspec": {
   "display_name": "Python 3 (ipykernel)",
   "language": "python",
   "name": "python3"
  },
  "language_info": {
   "codemirror_mode": {
    "name": "ipython",
    "version": 3
   },
   "file_extension": ".py",
   "mimetype": "text/x-python",
   "name": "python",
   "nbconvert_exporter": "python",
   "pygments_lexer": "ipython3",
   "version": "3.12.4"
  }
 },
 "nbformat": 4,
 "nbformat_minor": 5
}
